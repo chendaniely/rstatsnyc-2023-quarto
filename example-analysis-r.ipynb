{
 "cells": [
  {
   "cell_type": "code",
   "execution_count": 1,
   "id": "1cee8506-8ba7-4951-94ee-dd87f6a2cf9c",
   "metadata": {},
   "outputs": [],
   "source": [
    "library(tidyverse)\n",
    "library(readxl)\n",
    "library(writexl)"
   ]
  },
  {
   "cell_type": "markdown",
   "id": "71ea6957-deb6-444e-8824-9e561c399e6c",
   "metadata": {},
   "source": [
    "## Load Data"
   ]
  },
  {
   "cell_type": "code",
   "execution_count": 2,
   "id": "b5f39a37-1e44-4a30-b7ad-382e1291182e",
   "metadata": {},
   "outputs": [
    {
     "data": {
      "text/html": [
       "<table class=\"dataframe\">\n",
       "<caption>A tibble: 6 × 7</caption>\n",
       "<thead>\n",
       "\t<tr><th scope=col>ID</th><th scope=col>age</th><th scope=col>prior.radiation</th><th scope=col>aKIRs</th><th scope=col>cmv</th><th scope=col>donor_negative</th><th scope=col>donor_positive</th></tr>\n",
       "\t<tr><th scope=col>&lt;dbl&gt;</th><th scope=col>&lt;dbl&gt;</th><th scope=col>&lt;dbl&gt;</th><th scope=col>&lt;dbl&gt;</th><th scope=col>&lt;dbl&gt;</th><th scope=col>&lt;chr&gt;</th><th scope=col>&lt;chr&gt;</th></tr>\n",
       "</thead>\n",
       "<tbody>\n",
       "\t<tr><td>1</td><td>61</td><td>0</td><td>1</td><td>1</td><td>recipient_positive</td><td>NA                </td></tr>\n",
       "\t<tr><td>2</td><td>62</td><td>1</td><td>5</td><td>0</td><td>recipient_negative</td><td>NA                </td></tr>\n",
       "\t<tr><td>3</td><td>63</td><td>0</td><td>3</td><td>0</td><td>NA                </td><td>recipient_positive</td></tr>\n",
       "\t<tr><td>4</td><td>33</td><td>1</td><td>2</td><td>0</td><td>recipient_positive</td><td>NA                </td></tr>\n",
       "\t<tr><td>5</td><td>54</td><td>0</td><td>6</td><td>0</td><td>NA                </td><td>recipient_positive</td></tr>\n",
       "\t<tr><td>6</td><td>55</td><td>0</td><td>2</td><td>1</td><td>NA                </td><td>recipient_positive</td></tr>\n",
       "</tbody>\n",
       "</table>\n"
      ],
      "text/latex": [
       "A tibble: 6 × 7\n",
       "\\begin{tabular}{lllllll}\n",
       " ID & age & prior.radiation & aKIRs & cmv & donor\\_negative & donor\\_positive\\\\\n",
       " <dbl> & <dbl> & <dbl> & <dbl> & <dbl> & <chr> & <chr>\\\\\n",
       "\\hline\n",
       "\t 1 & 61 & 0 & 1 & 1 & recipient\\_positive & NA                \\\\\n",
       "\t 2 & 62 & 1 & 5 & 0 & recipient\\_negative & NA                \\\\\n",
       "\t 3 & 63 & 0 & 3 & 0 & NA                 & recipient\\_positive\\\\\n",
       "\t 4 & 33 & 1 & 2 & 0 & recipient\\_positive & NA                \\\\\n",
       "\t 5 & 54 & 0 & 6 & 0 & NA                 & recipient\\_positive\\\\\n",
       "\t 6 & 55 & 0 & 2 & 1 & NA                 & recipient\\_positive\\\\\n",
       "\\end{tabular}\n"
      ],
      "text/markdown": [
       "\n",
       "A tibble: 6 × 7\n",
       "\n",
       "| ID &lt;dbl&gt; | age &lt;dbl&gt; | prior.radiation &lt;dbl&gt; | aKIRs &lt;dbl&gt; | cmv &lt;dbl&gt; | donor_negative &lt;chr&gt; | donor_positive &lt;chr&gt; |\n",
       "|---|---|---|---|---|---|---|\n",
       "| 1 | 61 | 0 | 1 | 1 | recipient_positive | NA                 |\n",
       "| 2 | 62 | 1 | 5 | 0 | recipient_negative | NA                 |\n",
       "| 3 | 63 | 0 | 3 | 0 | NA                 | recipient_positive |\n",
       "| 4 | 33 | 1 | 2 | 0 | recipient_positive | NA                 |\n",
       "| 5 | 54 | 0 | 6 | 0 | NA                 | recipient_positive |\n",
       "| 6 | 55 | 0 | 2 | 1 | NA                 | recipient_positive |\n",
       "\n"
      ],
      "text/plain": [
       "  ID age prior.radiation aKIRs cmv donor_negative     donor_positive    \n",
       "1 1  61  0               1     1   recipient_positive NA                \n",
       "2 2  62  1               5     0   recipient_negative NA                \n",
       "3 3  63  0               3     0   NA                 recipient_positive\n",
       "4 4  33  1               2     0   recipient_positive NA                \n",
       "5 5  54  0               6     0   NA                 recipient_positive\n",
       "6 6  55  0               2     1   NA                 recipient_positive"
      ]
     },
     "metadata": {},
     "output_type": "display_data"
    }
   ],
   "source": [
    "cmv <- read_excel(\"data/cmv.xlsx\")\n",
    "head(cmv)"
   ]
  },
  {
   "cell_type": "markdown",
   "id": "69d0c27d-cdd3-4cf4-b63e-157366d8bc72",
   "metadata": {},
   "source": [
    "## Filter Data"
   ]
  },
  {
   "cell_type": "code",
   "execution_count": 3,
   "id": "0b9b7809-c7ad-4b90-8e3e-1497b51f1128",
   "metadata": {},
   "outputs": [],
   "source": [
    "cmv_subset <- cmv %>%\n",
    "  filter(age > 65)"
   ]
  },
  {
   "cell_type": "markdown",
   "id": "b131ea2d-a953-4200-9638-680a1ed66e49",
   "metadata": {},
   "source": [
    "## Save Data"
   ]
  },
  {
   "cell_type": "code",
   "execution_count": 4,
   "id": "6c18d343-8036-46eb-bb12-3c24e409103c",
   "metadata": {},
   "outputs": [],
   "source": [
    "write_xlsx(cmv_subset, \"data/cmv_subset-r-jupyter.xlsx\")"
   ]
  },
  {
   "cell_type": "markdown",
   "id": "fae5ea8d-5c82-436f-9198-c94df26e0832",
   "metadata": {},
   "source": [
    "## Tidy Data"
   ]
  },
  {
   "cell_type": "code",
   "execution_count": 5,
   "id": "65c163e1-d03b-43ee-b645-50004ef04de7",
   "metadata": {},
   "outputs": [],
   "source": [
    "cmv_tidy <- cmv %>%\n",
    "  pivot_longer(\n",
    "    donor_negative:donor_positive,\n",
    "    names_to = 'donor_status',\n",
    "    values_to = 'recipient_status'\n",
    "  )"
   ]
  },
  {
   "cell_type": "markdown",
   "id": "94fa0cf7-73df-445e-9e5b-a87db0dd6a93",
   "metadata": {},
   "source": [
    "## Plot Data"
   ]
  },
  {
   "cell_type": "code",
   "execution_count": 6,
   "id": "07b2d991-bd43-4b91-b75f-dd6a64529e86",
   "metadata": {},
   "outputs": [
    {
     "name": "stderr",
     "output_type": "stream",
     "text": [
      "\u001b[1m\u001b[22m`stat_bin()` using `bins = 30`. Pick better value with `binwidth`.\n"
     ]
    },
    {
     "data": {
      "image/png": "[encoded data removed]",
      "text/plain": [
       "plot without title"
      ]
     },
     "metadata": {
      "image/png": {
       "height": 420,
       "width": 420
      }
     },
     "output_type": "display_data"
    }
   ],
   "source": [
    "ggplot(cmv_tidy, aes(x = age)) + geom_histogram()"
   ]
  },
  {
   "cell_type": "markdown",
   "id": "78005e10-803c-4d1d-9518-7c96308a9646",
   "metadata": {},
   "source": [
    "## Fit a Model"
   ]
  },
  {
   "cell_type": "code",
   "execution_count": 7,
   "id": "200cf598-9a46-41fb-a3f2-f924f9896eac",
   "metadata": {},
   "outputs": [
    {
     "data": {
      "text/plain": [
       "\n",
       "Call:\n",
       "glm(formula = cmv ~ age + prior.radiation + donor_status, family = \"binomial\", \n",
       "    data = cmv_tidy)\n",
       "\n",
       "Coefficients:\n",
       "                             Estimate Std. Error z value Pr(>|z|)\n",
       "(Intercept)                -6.809e-01  1.186e+00  -0.574    0.566\n",
       "age                         7.669e-03  2.133e-02   0.360    0.719\n",
       "prior.radiation            -6.420e-01  5.553e-01  -1.156    0.248\n",
       "donor_statusdonor_positive -1.265e-16  3.629e-01   0.000    1.000\n",
       "\n",
       "(Dispersion parameter for binomial family taken to be 1)\n",
       "\n",
       "    Null deviance: 172.92  on 127  degrees of freedom\n",
       "Residual deviance: 170.74  on 124  degrees of freedom\n",
       "AIC: 178.74\n",
       "\n",
       "Number of Fisher Scoring iterations: 4\n"
      ]
     },
     "metadata": {},
     "output_type": "display_data"
    }
   ],
   "source": [
    "mod <- glm(\n",
    "  cmv ~ age + prior.radiation + donor_status,\n",
    "  data = cmv_tidy,\n",
    "  family = \"binomial\"\n",
    ")\n",
    "\n",
    "summary(mod)"
   ]
  },
  {
   "cell_type": "code",
   "execution_count": 8,
   "id": "7a9fa16b-0b05-4b98-8135-fc9679818ab1",
   "metadata": {},
   "outputs": [],
   "source": []
  }
 ],
 "metadata": {
  "kernelspec": {
   "display_name": "R",
   "language": "R",
   "name": "ir"
  },
  "language_info": {
   "codemirror_mode": "r",
   "file_extension": ".r",
   "mimetype": "text/x-r-source",
   "name": "R",
   "pygments_lexer": "r",
   "version": "4.3.1"
  }
 },
 "nbformat": 4,
 "nbformat_minor": 5
}
