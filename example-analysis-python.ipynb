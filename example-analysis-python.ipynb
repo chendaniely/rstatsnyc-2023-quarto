{
 "cells": [
  {
   "cell_type": "code",
   "execution_count": 1,
   "id": "4a9a7246-de20-4aac-945a-b8f0e7db0ac6",
   "metadata": {},
   "outputs": [],
   "source": [
    "import pandas as pd\n",
    "import plotnine as p9\n",
    "from plotnine import ggplot, aes, geom_histogram\n",
    "import statsmodels.formula.api as smf"
   ]
  },
  {
   "cell_type": "markdown",
   "id": "8f8205a7-a172-492a-bb22-e24bc1fc7ce2",
   "metadata": {},
   "source": [
    "## Load Data"
   ]
  },
  {
   "cell_type": "code",
   "execution_count": 2,
   "id": "a0fe3045-4d26-4dba-b673-5f95ee3d635c",
   "metadata": {},
   "outputs": [
    {
     "data": {
      "text/html": [
       "<div>\n",
       "<style scoped>\n",
       "    .dataframe tbody tr th:only-of-type {\n",
       "        vertical-align: middle;\n",
       "    }\n",
       "\n",
       "    .dataframe tbody tr th {\n",
       "        vertical-align: top;\n",
       "    }\n",
       "\n",
       "    .dataframe thead th {\n",
       "        text-align: right;\n",
       "    }\n",
       "</style>\n",
       "<table border=\"1\" class=\"dataframe\">\n",
       "  <thead>\n",
       "    <tr style=\"text-align: right;\">\n",
       "      <th></th>\n",
       "      <th>ID</th>\n",
       "      <th>age</th>\n",
       "      <th>prior.radiation</th>\n",
       "      <th>aKIRs</th>\n",
       "      <th>cmv</th>\n",
       "      <th>donor_negative</th>\n",
       "      <th>donor_positive</th>\n",
       "    </tr>\n",
       "  </thead>\n",
       "  <tbody>\n",
       "    <tr>\n",
       "      <th>0</th>\n",
       "      <td>1</td>\n",
       "      <td>61</td>\n",
       "      <td>0</td>\n",
       "      <td>1</td>\n",
       "      <td>1</td>\n",
       "      <td>recipient_positive</td>\n",
       "      <td>NaN</td>\n",
       "    </tr>\n",
       "    <tr>\n",
       "      <th>1</th>\n",
       "      <td>2</td>\n",
       "      <td>62</td>\n",
       "      <td>1</td>\n",
       "      <td>5</td>\n",
       "      <td>0</td>\n",
       "      <td>recipient_negative</td>\n",
       "      <td>NaN</td>\n",
       "    </tr>\n",
       "    <tr>\n",
       "      <th>2</th>\n",
       "      <td>3</td>\n",
       "      <td>63</td>\n",
       "      <td>0</td>\n",
       "      <td>3</td>\n",
       "      <td>0</td>\n",
       "      <td>NaN</td>\n",
       "      <td>recipient_positive</td>\n",
       "    </tr>\n",
       "    <tr>\n",
       "      <th>3</th>\n",
       "      <td>4</td>\n",
       "      <td>33</td>\n",
       "      <td>1</td>\n",
       "      <td>2</td>\n",
       "      <td>0</td>\n",
       "      <td>recipient_positive</td>\n",
       "      <td>NaN</td>\n",
       "    </tr>\n",
       "    <tr>\n",
       "      <th>4</th>\n",
       "      <td>5</td>\n",
       "      <td>54</td>\n",
       "      <td>0</td>\n",
       "      <td>6</td>\n",
       "      <td>0</td>\n",
       "      <td>NaN</td>\n",
       "      <td>recipient_positive</td>\n",
       "    </tr>\n",
       "  </tbody>\n",
       "</table>\n",
       "</div>"
      ],
      "text/plain": [
       "   ID  age  prior.radiation  aKIRs  cmv      donor_negative  \\\n",
       "0   1   61                0      1    1  recipient_positive   \n",
       "1   2   62                1      5    0  recipient_negative   \n",
       "2   3   63                0      3    0                 NaN   \n",
       "3   4   33                1      2    0  recipient_positive   \n",
       "4   5   54                0      6    0                 NaN   \n",
       "\n",
       "       donor_positive  \n",
       "0                 NaN  \n",
       "1                 NaN  \n",
       "2  recipient_positive  \n",
       "3                 NaN  \n",
       "4  recipient_positive  "
      ]
     },
     "execution_count": 10,
     "metadata": {},
     "output_type": "execute_result"
    }
   ],
   "source": [
    "cmv = pd.read_excel(\"data/cmv.xlsx\")\n",
    "cmv.head()"
   ]
  },
  {
   "cell_type": "markdown",
   "id": "024d6ec8-509d-445e-b459-6f786d5d3989",
   "metadata": {},
   "source": [
    "## Filter Data"
   ]
  },
  {
   "cell_type": "code",
   "execution_count": 3,
   "id": "9416f9f5-d5b6-4ea4-8541-bf543941690f",
   "metadata": {},
   "outputs": [],
   "source": [
    "cmv_subset = cmv.loc[cmv[\"age\"] > 65]"
   ]
  },
  {
   "cell_type": "markdown",
   "id": "54d996e9-7fb3-4e35-94ae-ffb018184ced",
   "metadata": {},
   "source": [
    "## Save Data"
   ]
  },
  {
   "cell_type": "code",
   "execution_count": 4,
   "id": "33da29ba-8323-4b9e-9c80-43fca23bbf9e",
   "metadata": {},
   "outputs": [],
   "source": [
    "cmv_subset.to_excel(\"data/cmv_subset-python-jupyter.xlsx\")"
   ]
  },
  {
   "cell_type": "markdown",
   "id": "0bb987cf-19de-4d28-8b75-cfaeda3bc69b",
   "metadata": {},
   "source": [
    "## Tidy Data"
   ]
  },
  {
   "cell_type": "code",
   "execution_count": 5,
   "id": "236f0419-1059-41d7-9b4b-b651942d3c13",
   "metadata": {},
   "outputs": [
    {
     "data": {
      "text/plain": [
       "Index(['ID', 'age', 'prior.radiation', 'aKIRs', 'cmv', 'donor_negative',\n",
       "       'donor_positive'],\n",
       "      dtype='object')"
      ]
     },
     "execution_count": 13,
     "metadata": {},
     "output_type": "execute_result"
    }
   ],
   "source": [
    "cmv.columns"
   ]
  },
  {
   "cell_type": "code",
   "execution_count": 6,
   "id": "cadce6da-a408-4009-a8eb-049c792c92f8",
   "metadata": {},
   "outputs": [
    {
     "data": {
      "text/html": [
       "<div>\n",
       "<style scoped>\n",
       "    .dataframe tbody tr th:only-of-type {\n",
       "        vertical-align: middle;\n",
       "    }\n",
       "\n",
       "    .dataframe tbody tr th {\n",
       "        vertical-align: top;\n",
       "    }\n",
       "\n",
       "    .dataframe thead th {\n",
       "        text-align: right;\n",
       "    }\n",
       "</style>\n",
       "<table border=\"1\" class=\"dataframe\">\n",
       "  <thead>\n",
       "    <tr style=\"text-align: right;\">\n",
       "      <th></th>\n",
       "      <th>ID</th>\n",
       "      <th>age</th>\n",
       "      <th>prior.radiation</th>\n",
       "      <th>aKIRs</th>\n",
       "      <th>cmv</th>\n",
       "      <th>donor_status</th>\n",
       "      <th>recipient_status</th>\n",
       "    </tr>\n",
       "  </thead>\n",
       "  <tbody>\n",
       "    <tr>\n",
       "      <th>0</th>\n",
       "      <td>1</td>\n",
       "      <td>61</td>\n",
       "      <td>0</td>\n",
       "      <td>1</td>\n",
       "      <td>1</td>\n",
       "      <td>donor_negative</td>\n",
       "      <td>recipient_positive</td>\n",
       "    </tr>\n",
       "    <tr>\n",
       "      <th>1</th>\n",
       "      <td>2</td>\n",
       "      <td>62</td>\n",
       "      <td>1</td>\n",
       "      <td>5</td>\n",
       "      <td>0</td>\n",
       "      <td>donor_negative</td>\n",
       "      <td>recipient_negative</td>\n",
       "    </tr>\n",
       "    <tr>\n",
       "      <th>2</th>\n",
       "      <td>3</td>\n",
       "      <td>63</td>\n",
       "      <td>0</td>\n",
       "      <td>3</td>\n",
       "      <td>0</td>\n",
       "      <td>donor_negative</td>\n",
       "      <td>NaN</td>\n",
       "    </tr>\n",
       "    <tr>\n",
       "      <th>3</th>\n",
       "      <td>4</td>\n",
       "      <td>33</td>\n",
       "      <td>1</td>\n",
       "      <td>2</td>\n",
       "      <td>0</td>\n",
       "      <td>donor_negative</td>\n",
       "      <td>recipient_positive</td>\n",
       "    </tr>\n",
       "    <tr>\n",
       "      <th>4</th>\n",
       "      <td>5</td>\n",
       "      <td>54</td>\n",
       "      <td>0</td>\n",
       "      <td>6</td>\n",
       "      <td>0</td>\n",
       "      <td>donor_negative</td>\n",
       "      <td>NaN</td>\n",
       "    </tr>\n",
       "  </tbody>\n",
       "</table>\n",
       "</div>"
      ],
      "text/plain": [
       "   ID  age  prior.radiation  aKIRs  cmv    donor_status    recipient_status\n",
       "0   1   61                0      1    1  donor_negative  recipient_positive\n",
       "1   2   62                1      5    0  donor_negative  recipient_negative\n",
       "2   3   63                0      3    0  donor_negative                 NaN\n",
       "3   4   33                1      2    0  donor_negative  recipient_positive\n",
       "4   5   54                0      6    0  donor_negative                 NaN"
      ]
     },
     "execution_count": 14,
     "metadata": {},
     "output_type": "execute_result"
    }
   ],
   "source": [
    "cmv_tidy = (\n",
    "    cmv\n",
    "    .melt(\n",
    "        id_vars=[\"ID\", \"age\", \"prior.radiation\", \"aKIRs\", \"cmv\"],\n",
    "        var_name='donor_status',\n",
    "        value_name=\"recipient_status\"\n",
    "    )\n",
    ")\n",
    "cmv_tidy.head()"
   ]
  },
  {
   "cell_type": "markdown",
   "id": "1a3ce6bf-2c3b-47ff-98b5-518412814826",
   "metadata": {},
   "source": [
    "## Plot Data"
   ]
  },
  {
   "cell_type": "code",
   "execution_count": 7,
   "id": "05333790-68ea-46be-ab26-4794baac1ce0",
   "metadata": {},
   "outputs": [
    {
     "name": "stderr",
     "output_type": "stream",
     "text": [
      "/home/dan/git/hub/rstatsnyc-2023-quarto/venv/lib/python3.11/site-packages/plotnine/stats/stat_bin.py:109: PlotnineWarning: 'stat_bin()' using 'bins = 7'. Pick better value with 'binwidth'.\n"
     ]
    },
    {
     "data": {
      "image/png": "[encoded data removed]",
      "text/plain": [
       "<Figure size 640x480 with 1 Axes>"
      ]
     },
     "metadata": {
      "image/png": {
       "height": 480,
       "width": 640
      }
     },
     "output_type": "display_data"
    },
    {
     "data": {
      "text/plain": [
       "<Figure Size: (640 x 480)>"
      ]
     },
     "execution_count": 15,
     "metadata": {},
     "output_type": "execute_result"
    }
   ],
   "source": [
    "ggplot(cmv_tidy, aes(x=\"age\")) + geom_histogram()"
   ]
  },
  {
   "cell_type": "markdown",
   "id": "46362f6a-ecbc-4b13-8587-b7e58cf92414",
   "metadata": {},
   "source": [
    "## Fit a Model"
   ]
  },
  {
   "cell_type": "code",
   "execution_count": 8,
   "id": "dbe7a050-7a58-4f6a-a914-a5adc97f5025",
   "metadata": {},
   "outputs": [
    {
     "name": "stdout",
     "output_type": "stream",
     "text": [
      "Optimization terminated successfully.\n",
      "         Current function value: 0.666972\n",
      "         Iterations 5\n"
     ]
    },
    {
     "data": {
      "text/html": [
       "<table class=\"simpletable\">\n",
       "<caption>Logit Regression Results</caption>\n",
       "<tr>\n",
       "  <th>Dep. Variable:</th>          <td>cmv</td>       <th>  No. Observations:  </th>  <td>   128</td> \n",
       "</tr>\n",
       "<tr>\n",
       "  <th>Model:</th>                 <td>Logit</td>      <th>  Df Residuals:      </th>  <td>   124</td> \n",
       "</tr>\n",
       "<tr>\n",
       "  <th>Method:</th>                 <td>MLE</td>       <th>  Df Model:          </th>  <td>     3</td> \n",
       "</tr>\n",
       "<tr>\n",
       "  <th>Date:</th>            <td>Wed, 12 Jul 2023</td> <th>  Pseudo R-squ.:     </th>  <td>0.01257</td>\n",
       "</tr>\n",
       "<tr>\n",
       "  <th>Time:</th>                <td>23:54:32</td>     <th>  Log-Likelihood:    </th> <td> -85.372</td>\n",
       "</tr>\n",
       "<tr>\n",
       "  <th>converged:</th>             <td>True</td>       <th>  LL-Null:           </th> <td> -86.459</td>\n",
       "</tr>\n",
       "<tr>\n",
       "  <th>Covariance Type:</th>     <td>nonrobust</td>    <th>  LLR p-value:       </th>  <td>0.5371</td> \n",
       "</tr>\n",
       "</table>\n",
       "<table class=\"simpletable\">\n",
       "<tr>\n",
       "                 <td></td>                   <th>coef</th>     <th>std err</th>      <th>z</th>      <th>P>|z|</th>  <th>[0.025</th>    <th>0.975]</th>  \n",
       "</tr>\n",
       "<tr>\n",
       "  <th>Intercept</th>                      <td>   -0.6809</td> <td>    1.186</td> <td>   -0.574</td> <td> 0.566</td> <td>   -3.005</td> <td>    1.644</td>\n",
       "</tr>\n",
       "<tr>\n",
       "  <th>donor_status[T.donor_positive]</th> <td> -4.29e-17</td> <td>    0.363</td> <td>-1.18e-16</td> <td> 1.000</td> <td>   -0.711</td> <td>    0.711</td>\n",
       "</tr>\n",
       "<tr>\n",
       "  <th>age</th>                            <td>    0.0077</td> <td>    0.021</td> <td>    0.360</td> <td> 0.719</td> <td>   -0.034</td> <td>    0.049</td>\n",
       "</tr>\n",
       "<tr>\n",
       "  <th>prior_radiation</th>                <td>   -0.6420</td> <td>    0.555</td> <td>   -1.156</td> <td> 0.248</td> <td>   -1.730</td> <td>    0.446</td>\n",
       "</tr>\n",
       "</table>"
      ],
      "text/latex": [
       "\\begin{center}\n",
       "\\begin{tabular}{lclc}\n",
       "\\toprule\n",
       "\\textbf{Dep. Variable:}                   &       cmv        & \\textbf{  No. Observations:  } &      128    \\\\\n",
       "\\textbf{Model:}                           &      Logit       & \\textbf{  Df Residuals:      } &      124    \\\\\n",
       "\\textbf{Method:}                          &       MLE        & \\textbf{  Df Model:          } &        3    \\\\\n",
       "\\textbf{Date:}                            & Wed, 12 Jul 2023 & \\textbf{  Pseudo R-squ.:     } &  0.01257    \\\\\n",
       "\\textbf{Time:}                            &     23:54:32     & \\textbf{  Log-Likelihood:    } &   -85.372   \\\\\n",
       "\\textbf{converged:}                       &       True       & \\textbf{  LL-Null:           } &   -86.459   \\\\\n",
       "\\textbf{Covariance Type:}                 &    nonrobust     & \\textbf{  LLR p-value:       } &   0.5371    \\\\\n",
       "\\bottomrule\n",
       "\\end{tabular}\n",
       "\\begin{tabular}{lcccccc}\n",
       "                                          & \\textbf{coef} & \\textbf{std err} & \\textbf{z} & \\textbf{P$> |$z$|$} & \\textbf{[0.025} & \\textbf{0.975]}  \\\\\n",
       "\\midrule\n",
       "\\textbf{Intercept}                        &      -0.6809  &        1.186     &    -0.574  &         0.566        &       -3.005    &        1.644     \\\\\n",
       "\\textbf{donor\\_status[T.donor\\_positive]} &    -4.29e-17  &        0.363     & -1.18e-16  &         1.000        &       -0.711    &        0.711     \\\\\n",
       "\\textbf{age}                              &       0.0077  &        0.021     &     0.360  &         0.719        &       -0.034    &        0.049     \\\\\n",
       "\\textbf{prior\\_radiation}                 &      -0.6420  &        0.555     &    -1.156  &         0.248        &       -1.730    &        0.446     \\\\\n",
       "\\bottomrule\n",
       "\\end{tabular}\n",
       "%\\caption{Logit Regression Results}\n",
       "\\end{center}"
      ],
      "text/plain": [
       "<class 'statsmodels.iolib.summary.Summary'>\n",
       "\"\"\"\n",
       "                           Logit Regression Results                           \n",
       "==============================================================================\n",
       "Dep. Variable:                    cmv   No. Observations:                  128\n",
       "Model:                          Logit   Df Residuals:                      124\n",
       "Method:                           MLE   Df Model:                            3\n",
       "Date:                Wed, 12 Jul 2023   Pseudo R-squ.:                 0.01257\n",
       "Time:                        23:54:32   Log-Likelihood:                -85.372\n",
       "converged:                       True   LL-Null:                       -86.459\n",
       "Covariance Type:            nonrobust   LLR p-value:                    0.5371\n",
       "==================================================================================================\n",
       "                                     coef    std err          z      P>|z|      [0.025      0.975]\n",
       "--------------------------------------------------------------------------------------------------\n",
       "Intercept                         -0.6809      1.186     -0.574      0.566      -3.005       1.644\n",
       "donor_status[T.donor_positive]  -4.29e-17      0.363  -1.18e-16      1.000      -0.711       0.711\n",
       "age                                0.0077      0.021      0.360      0.719      -0.034       0.049\n",
       "prior_radiation                   -0.6420      0.555     -1.156      0.248      -1.730       0.446\n",
       "==================================================================================================\n",
       "\"\"\""
      ]
     },
     "execution_count": 16,
     "metadata": {},
     "output_type": "execute_result"
    }
   ],
   "source": [
    "cmv_tidy = cmv_tidy.rename(\n",
    "    columns={\"prior.radiation\":\"prior_radiation\"}\n",
    ")\n",
    "\n",
    "res = (\n",
    "    smf.logit(formula=\"cmv ~ age + prior_radiation + donor_status\", data=cmv_tidy)\n",
    "    .fit()\n",
    ")\n",
    "res.summary()"
   ]
  },
  {
   "cell_type": "code",
   "execution_count": 9,
   "id": "081194dc-d259-45e2-b0f5-76479a46d2f4",
   "metadata": {},
   "outputs": [],
   "source": []
  }
 ],
 "metadata": {
  "kernelspec": {
   "display_name": "Python 3 (ipykernel)",
   "language": "python",
   "name": "python3"
  },
  "language_info": {
   "codemirror_mode": {
    "name": "ipython",
    "version": 3
   },
   "file_extension": ".py",
   "mimetype": "text/x-python",
   "name": "python",
   "nbconvert_exporter": "python",
   "pygments_lexer": "ipython3",
   "version": "3.11.4"
  }
 },
 "nbformat": 4,
 "nbformat_minor": 5
}
